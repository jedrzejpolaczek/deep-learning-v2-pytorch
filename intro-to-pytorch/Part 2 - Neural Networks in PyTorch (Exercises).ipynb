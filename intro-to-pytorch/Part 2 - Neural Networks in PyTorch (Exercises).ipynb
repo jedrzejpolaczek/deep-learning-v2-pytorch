{
 "cells": [
  {
   "cell_type": "markdown",
   "metadata": {},
   "source": [
    "# Neural networks with PyTorch\n",
    "\n",
    "Deep learning networks tend to be massive with dozens or hundreds of layers, that's where the term \"deep\" comes from. You can build one of these deep networks using only weight matrices as we did in the previous notebook, but in general it's very cumbersome and difficult to implement. PyTorch has a nice module `nn` that provides a nice way to efficiently build large neural networks."
   ]
  },
  {
   "cell_type": "code",
   "execution_count": 3,
   "metadata": {},
   "outputs": [],
   "source": [
    "# Import necessary packages\n",
    "\n",
    "%matplotlib inline\n",
    "%config InlineBackend.figure_format = 'retina'\n",
    "\n",
    "import numpy as np\n",
    "import torch\n",
    "\n",
    "import helper\n",
    "\n",
    "import matplotlib.pyplot as plt"
   ]
  },
  {
   "cell_type": "markdown",
   "metadata": {},
   "source": [
    "\n",
    "Now we're going to build a larger network that can solve a (formerly) difficult problem, identifying text in an image. Here we'll use the MNIST dataset which consists of greyscale handwritten digits. Each image is 28x28 pixels, you can see a sample below\n",
    "\n",
    "<img src='assets/mnist.png'>\n",
    "\n",
    "Our goal is to build a neural network that can take one of these images and predict the digit in the image.\n",
    "\n",
    "First up, we need to get our dataset. This is provided through the `torchvision` package. The code below will download the MNIST dataset, then create training and test datasets for us. Don't worry too much about the details here, you'll learn more about this later."
   ]
  },
  {
   "cell_type": "code",
   "execution_count": 9,
   "metadata": {},
   "outputs": [],
   "source": [
    "### Run this cell\n",
    "\n",
    "from torchvision import datasets, transforms\n",
    "\n",
    "# Define a transform to normalize the data\n",
    "transform = transforms.Compose([transforms.ToTensor(),\n",
    "                              transforms.Normalize((0.5,), (0.5,)),\n",
    "                              ])\n",
    "\n",
    "# Download and load the training data\n",
    "trainset = datasets.MNIST('~/.pytorch/MNIST_data/', download=True, train=True, transform=transform)\n",
    "trainloader = torch.utils.data.DataLoader(trainset, batch_size=64, shuffle=True)"
   ]
  },
  {
   "cell_type": "markdown",
   "metadata": {},
   "source": [
    "We have the training data loaded into `trainloader` and we make that an iterator with `iter(trainloader)`. Later, we'll use this to loop through the dataset for training, like\n",
    "\n",
    "```python\n",
    "for image, label in trainloader:\n",
    "    ## do things with images and labels\n",
    "```\n",
    "\n",
    "You'll notice I created the `trainloader` with a batch size of 64, and `shuffle=True`. The batch size is the number of images we get in one iteration from the data loader and pass through our network, often called a *batch*. And `shuffle=True` tells it to shuffle the dataset every time we start going through the data loader again. But here I'm just grabbing the first batch so we can check out the data. We can see below that `images` is just a tensor with size `(64, 1, 28, 28)`. So, 64 images per batch, 1 color channel, and 28x28 images."
   ]
  },
  {
   "cell_type": "code",
   "execution_count": 10,
   "metadata": {},
   "outputs": [
    {
     "name": "stdout",
     "output_type": "stream",
     "text": [
      "<class 'torch.Tensor'>\n",
      "torch.Size([64, 1, 28, 28])\n",
      "torch.Size([64])\n"
     ]
    }
   ],
   "source": [
    "dataiter = iter(trainloader)\n",
    "images, labels = dataiter.next()\n",
    "print(type(images))\n",
    "print(images.shape)\n",
    "print(labels.shape)"
   ]
  },
  {
   "cell_type": "markdown",
   "metadata": {},
   "source": [
    "This is what one of the images looks like. "
   ]
  },
  {
   "cell_type": "code",
   "execution_count": 11,
   "metadata": {},
   "outputs": [
    {
     "data": {
      "image/png": "[encoded data removed]",
      "text/plain": [
       "<Figure size 432x288 with 1 Axes>"
      ]
     },
     "metadata": {
      "image/png": {
       "height": 248,
       "width": 251
      },
      "needs_background": "light"
     },
     "output_type": "display_data"
    }
   ],
   "source": [
    "plt.imshow(images[1].numpy().squeeze(), cmap='Greys_r');"
   ]
  },
  {
   "cell_type": "markdown",
   "metadata": {},
   "source": [
    "First, let's try to build a simple network for this dataset using weight matrices and matrix multiplications. Then, we'll see how to do it using PyTorch's `nn` module which provides a much more convenient and powerful method for defining network architectures.\n",
    "\n",
    "The networks you've seen so far are called *fully-connected* or *dense* networks. Each unit in one layer is connected to each unit in the next layer. In fully-connected networks, the input to each layer must be a one-dimensional vector (which can be stacked into a 2D tensor as a batch of multiple examples). However, our images are 28x28 2D tensors, so we need to convert them into 1D vectors. Thinking about sizes, we need to convert the batch of images with shape `(64, 1, 28, 28)` to a have a shape of `(64, 784)`, 784 is 28 times 28. This is typically called *flattening*, we flattened the 2D images into 1D vectors.\n",
    "\n",
    "Previously you built a network with one output unit. Here we need 10 output units, one for each digit. We want our network to predict the digit shown in an image, so what we'll do is calculate probabilities that the image is of any one digit or class. This ends up being a discrete probability distribution over the classes (digits) that tells us the most likely class for the image. That means we need 10 output units for the 10 classes (digits). We'll see how to convert the network output into a probability distribution next.\n",
    "\n",
    "> **Exercise:** Flatten the batch of images `images`. Then build a multi-layer network with 784 input units, 256 hidden units, and 10 output units using random tensors for the weights and biases. For now, use a sigmoid activation for the hidden layer. Leave the output layer without an activation, we'll add one that gives us a probability distribution next."
   ]
  },
  {
   "cell_type": "code",
   "execution_count": 15,
   "metadata": {},
   "outputs": [
    {
     "name": "stdout",
     "output_type": "stream",
     "text": [
      "Shape:  torch.Size([64, 10])\n",
      "tensor([[ 26.3017, -16.5413,   8.9702,  -3.8251, -16.1421,  15.0623, -16.4664,\n",
      "          -2.7003,  -1.2837, -13.7088],\n",
      "        [ 19.0269, -11.3407,  -1.0720,  13.5739, -15.5239,  20.0636,  -8.1882,\n",
      "          -0.5548,  -7.6763,  -5.0975],\n",
      "        [ 16.6612, -17.7685,  -0.9779,   3.4011,  -8.5466,  14.1094, -15.9811,\n",
      "          -7.5415,   8.1910,  -2.4331],\n",
      "        [ 21.0257, -13.0357,  -4.3369,  -0.3744, -17.9753,  10.9547,  -6.4539,\n",
      "          -7.5602,   0.1501,  -0.7518],\n",
      "        [ 15.6567, -17.1267,  -0.7150,  -4.3434,   2.9021,   4.2652,  -8.9692,\n",
      "          -7.2155,   2.6564, -11.0640],\n",
      "        [ 26.2505, -29.2529,   2.4049,   6.4330,  -9.7612,  10.4295, -11.4381,\n",
      "         -22.8246,  -5.4642, -14.4724],\n",
      "        [ 19.6793, -22.8769,   6.7200,  -7.9251,  -8.0494,  12.6516, -16.2570,\n",
      "         -18.4170,   0.1202,  -9.6459],\n",
      "        [ 26.7039, -20.6535,   3.9176,  -2.0536,  -2.6214,  11.9808, -12.1150,\n",
      "         -18.0762,   2.4664, -16.2829],\n",
      "        [ 18.9897, -22.0433,   9.8289,   1.5586, -14.6753,  11.0379,  -5.8636,\n",
      "         -14.4560,   0.4042,   0.9824],\n",
      "        [ 13.4292, -18.6833,   3.1241,   5.5859,  -7.1261,   9.0628, -16.5410,\n",
      "         -10.8856,   5.5296,  -3.3165],\n",
      "        [ 14.1676, -21.6583,  -6.7144,   2.8868,  -6.6572,   2.4521, -15.2642,\n",
      "         -10.6197,  -4.2850,  -5.6570],\n",
      "        [ 18.0739, -15.9648,   5.0069,   8.7101,  -2.7492,  10.8742, -15.1526,\n",
      "         -15.9875,   8.3238, -10.0910],\n",
      "        [ 24.4891, -23.4826,  13.6373,  -1.8590,  -5.5342,  10.5148, -15.2346,\n",
      "         -10.4543,   2.5038, -14.1075],\n",
      "        [ 30.3550, -32.4268,   4.5511,   3.9661,   2.6731,   6.8205, -12.3406,\n",
      "         -15.0120,   5.1898, -14.8096],\n",
      "        [ 18.8169, -17.5164,  -0.7469,  -1.6177, -16.9120,   6.9565, -13.5154,\n",
      "          -9.6046,  -1.7260,  -7.3754],\n",
      "        [ 17.9152, -28.4082,   4.4612,   4.0183,  -8.5367,  11.6415,  -6.9566,\n",
      "         -17.1921,   1.7076,  -6.5242],\n",
      "        [ 23.4621, -25.4828,  10.8155,  -3.7659,  -5.1472,   9.6424,  -8.6103,\n",
      "          -7.8695,   0.6431,  -4.8057],\n",
      "        [ 16.6294, -22.9455,   9.7469,   1.6782,  -3.3770,   1.3515, -10.5494,\n",
      "           2.4351,  -2.5058, -11.3813],\n",
      "        [ 16.1399, -25.7251,   3.0835,  -2.8957, -15.0569,  11.7260, -12.6775,\n",
      "         -18.0544,  -0.5719,  -2.1326],\n",
      "        [ 20.3261, -22.4550,  -0.7125,  -5.1821, -18.3838,  13.0522, -12.6837,\n",
      "         -10.0590,  -0.8464,   2.7423],\n",
      "        [ 28.1363, -23.9686,   2.5548,  -3.8660, -16.4012,   3.7258, -19.5446,\n",
      "         -12.1187,  -0.9605,  -0.3114],\n",
      "        [ 18.8691, -11.8196,  -1.8231,  12.8277,  -8.8870,   6.8892,  -4.2255,\n",
      "         -10.4198,   0.0532,   4.4298],\n",
      "        [ 21.2877, -15.4910,   1.1712,   1.4836,  -8.0101,   5.4031, -10.3592,\n",
      "          -9.2365,  -8.5302, -11.3721],\n",
      "        [ 14.5775, -15.6857,  -6.2715,   7.2035,  -6.0841,   5.9685, -13.5271,\n",
      "          -2.6450,  -3.1194,  -6.0720],\n",
      "        [ 18.9729, -21.5517,   5.1276,  -1.6376, -14.1250,  15.6606, -12.0130,\n",
      "         -16.5948,   6.9503, -11.4776],\n",
      "        [ 21.2870, -24.6108,  -0.3804,  -2.8565, -14.7389,  11.9374,  -8.9149,\n",
      "         -11.3725,  -3.5562,  -9.9152],\n",
      "        [ 22.2455, -12.5796,  -4.5315,  -0.4310, -15.2437,  10.2167, -12.7515,\n",
      "         -17.1022,   2.4317,  -3.6085],\n",
      "        [ 17.4364, -20.3284,   8.1832,   0.1512, -15.6237,   6.4349, -18.5788,\n",
      "         -11.2109,  -3.0912,  -9.6989],\n",
      "        [ 10.6520, -22.3048,  16.6659,   7.8923,  -7.1495,  16.2510, -16.9242,\n",
      "          -9.4978,   0.1842,  -5.8504],\n",
      "        [ 21.6069, -26.0115,   5.0260,   4.3956, -14.1064,  10.1400,  -7.5450,\n",
      "         -11.6495,  -6.6003, -15.1219],\n",
      "        [ 27.7523, -10.2613,   9.2448,  -4.1295, -11.5198,   5.1100, -13.9024,\n",
      "          -8.1534,  -2.6170,  -2.6190],\n",
      "        [ 27.2405, -30.4382,  -4.7259,   3.2235,  -0.2121,   1.4618, -16.4711,\n",
      "         -11.5405,   0.3473, -14.8979],\n",
      "        [ 15.0316, -22.6115,   5.8826,  -8.0203,  -9.2683,   8.1360,  -5.3748,\n",
      "          -7.6714,  -3.1385,  -8.0485],\n",
      "        [ 16.0750, -16.3838,   8.9603,  -0.1173,  -8.9370,   6.0264,  -9.4012,\n",
      "         -16.8338,  -5.2623, -11.0109],\n",
      "        [ 22.8526, -18.0864,  -1.3235,   3.4978,  -2.7116,   7.0458, -12.4655,\n",
      "         -10.8736,  -4.8650, -13.0918],\n",
      "        [ 27.7144, -22.8524,  -2.9595,   3.1387,  -3.7889,  10.4517,  -8.4699,\n",
      "         -10.4087,   5.0268,   0.2548],\n",
      "        [ 22.9931, -23.2070,   0.5208,  -0.0840,   0.9870,   7.9382,  -8.2476,\n",
      "          -9.9894,   5.3873, -12.5647],\n",
      "        [ 30.1777, -12.5025,  -2.9352,   0.9483,  -9.6093,   6.1768, -10.6791,\n",
      "         -12.5405,   1.6387, -11.3990],\n",
      "        [ 17.7624, -17.0880,  11.3257,  -1.2058,  -6.7457,  13.4903,  -9.2669,\n",
      "         -13.5564,   0.7715,  -8.8543],\n",
      "        [ 22.3098, -19.4732,   0.6783,   2.2457,  -5.1206,  12.6551, -15.1608,\n",
      "         -16.6493,   0.8031,  -6.3724],\n",
      "        [ 19.0217, -10.0447,   7.3968,  -3.8028, -13.5085,  11.8276, -11.8102,\n",
      "         -12.2270,  -0.3720, -12.9533],\n",
      "        [ 26.0775, -19.8205,   3.1204,   3.5436,  -4.6197,   9.4181,  -5.4977,\n",
      "          -8.3748,  -5.9523,  -9.0020],\n",
      "        [ 21.0021, -28.1177,   2.5474,   5.1534,   3.9578,   6.1537, -11.7708,\n",
      "         -12.0047,  -1.6905,  -8.0054],\n",
      "        [ 21.9148, -21.9075,  -0.2607,  10.3885,  -9.7497,  17.0926, -13.2494,\n",
      "         -14.7336,  -7.3284,  -0.9444],\n",
      "        [ 26.1816, -16.4422,  -2.2471,   6.4343, -16.0496,  16.5726, -13.1946,\n",
      "         -10.5319,   2.9628,  -8.1467],\n",
      "        [ 24.1546, -17.5554,   7.2774,   0.0779,   1.3152,  13.4867, -15.3496,\n",
      "          -7.7033,  -3.4769,  -2.8010],\n",
      "        [ 16.6913, -22.1881,   1.3014,  -3.9325, -14.7768,   6.0706, -15.3205,\n",
      "         -16.8964,  14.1716, -25.6907],\n",
      "        [ 31.4005, -25.9334,  -4.1233,   4.3618, -10.3774,   9.0337, -19.8845,\n",
      "         -18.5372,  -1.7285, -16.6565],\n",
      "        [ 25.8562, -21.6584,   0.6758,   5.9671,  -4.9828,  11.3025,  -9.4062,\n",
      "         -22.3200,  -1.3218, -15.0613],\n",
      "        [ 24.7400, -32.3515,   1.8265,   4.5227, -16.5075,   5.8293,  -5.9790,\n",
      "         -14.3761,  -7.8222, -10.5002],\n",
      "        [ 14.5934, -16.3679,  -7.2507,   3.9688, -10.8563,  10.1574,  -3.6204,\n",
      "         -11.2808,   1.3623,   2.5597],\n",
      "        [ 21.2821, -17.1028,  11.2614,   7.6325, -12.3474,  15.0683, -12.5087,\n",
      "          -6.1492,  -9.1963,  -3.6640],\n",
      "        [ 25.9933, -29.9508,  -3.7851,   8.1716, -11.3123,  11.3151, -17.0283,\n",
      "         -13.7137,  -6.0536,  -8.7538],\n",
      "        [ 17.8841, -21.5474,   3.5558,  -0.0930, -10.8833,  17.1543,  -5.2144,\n",
      "          -9.5983,  -3.0074,  -4.2130],\n",
      "        [ 17.1168, -15.9488,  -0.1193,   2.1629,  -7.5965,  12.8883, -13.2470,\n",
      "         -11.6734,  -3.0099,  -5.9917],\n",
      "        [ 23.7230, -19.6383,   7.4814,   6.7061,  -2.4935,  12.7138, -19.2069,\n",
      "         -17.5897,  13.7301, -14.0537],\n",
      "        [ 29.1486, -21.8089,  -2.5775,   4.8806,  -5.7787,  12.7370, -16.5230,\n",
      "         -16.8648,   5.6274, -10.9226],\n",
      "        [ 22.8052, -24.1454,   3.5059,   0.5743, -19.1388,  11.2365,  -4.7496,\n",
      "         -15.1495,  -0.4145, -11.6826],\n",
      "        [ 27.5804, -19.7549,  -5.9081,   7.6253, -13.0864,  11.3926, -13.9451,\n",
      "         -18.9972,  -0.1357,  -8.3663],\n",
      "        [ 19.5436, -24.6437,   6.1588,   2.5638,  -5.8688,   7.6371, -18.2411,\n",
      "          -8.7612,  11.9318, -12.0246],\n",
      "        [ 25.3662, -19.9618,   3.6565,   1.0742, -24.9445,  11.8887, -11.3114,\n",
      "         -10.0037,  -5.7483,  -7.9196],\n",
      "        [ 27.5003, -22.6233,   5.1319,   6.2575,  -4.4310,  10.4034, -17.1304,\n",
      "         -11.4688,   4.5217, -18.3645],\n",
      "        [ 24.9941, -19.8650,   8.6736,  -3.1380, -15.3146,   9.5791,  -8.5320,\n",
      "         -13.8035,   1.8594,  -6.1861],\n",
      "        [ 24.7297, -26.4841,   8.2764,  -4.7850, -10.9419,  10.3068,  -6.2445,\n",
      "          -7.3772,  -3.0187,  -6.3533]])\n"
     ]
    }
   ],
   "source": [
    "## Your solution\n",
    "def activation(x):\n",
    "    return 1/(1+torch.exp(-x))\n",
    "\n",
    "# Flatten the input images\n",
    "inputs = images.view(images.shape[0], -1)  # images.view(images.shape[0], 784) should work also\n",
    "\n",
    "# Create parameters\n",
    "w1 = torch.randn(784, 256)  # 256 hidden units!\n",
    "b1 = torch.randn(256)\n",
    "\n",
    "w2 = torch.randn(256, 10)  # 10 hidden units!\n",
    "b2 = torch.randn(10)\n",
    "\n",
    "h = activation(torch.mm(inputs, w1) + b1)\n",
    "\n",
    "out = torch.mm(h, w2) + b2  # output of your network, should have shape (64,10)\n",
    "print(\"Shape: \", out.shape)\n",
    "print(out)"
   ]
  },
  {
   "cell_type": "markdown",
   "metadata": {},
   "source": [
    "Now we have 10 outputs for our network. We want to pass in an image to our network and get out a probability distribution over the classes that tells us the likely class(es) the image belongs to. Something that looks like this:\n",
    "<img src='assets/image_distribution.png' width=500px>\n",
    "\n",
    "Here we see that the probability for each class is roughly the same. This is representing an untrained network, it hasn't seen any data yet so it just returns a uniform distribution with equal probabilities for each class.\n",
    "\n",
    "To calculate this probability distribution, we often use the [**softmax** function](https://en.wikipedia.org/wiki/Softmax_function). Mathematically this looks like\n",
    "\n",
    "$$\n",
    "\\Large \\sigma(x_i) = \\cfrac{e^{x_i}}{\\sum_k^K{e^{x_k}}}\n",
    "$$\n",
    "\n",
    "What this does is squish each input $x_i$ between 0 and 1 and normalizes the values to give you a proper probability distribution where the probabilites sum up to one.\n",
    "\n",
    "> **Exercise:** Implement a function `softmax` that performs the softmax calculation and returns probability distributions for each example in the batch. Note that you'll need to pay attention to the shapes when doing this. If you have a tensor `a` with shape `(64, 10)` and a tensor `b` with shape `(64,)`, doing `a/b` will give you an error because PyTorch will try to do the division across the columns (called broadcasting) but you'll get a size mismatch. The way to think about this is for each of the 64 examples, you only want to divide by one value, the sum in the denominator. So you need `b` to have a shape of `(64, 1)`. This way PyTorch will divide the 10 values in each row of `a` by the one value in each row of `b`. Pay attention to how you take the sum as well. You'll need to define the `dim` keyword in `torch.sum`. Setting `dim=0` takes the sum across the rows while `dim=1` takes the sum across the columns."
   ]
  },
  {
   "cell_type": "code",
   "execution_count": 16,
   "metadata": {},
   "outputs": [
    {
     "name": "stdout",
     "output_type": "stream",
     "text": [
      "torch.Size([64, 10])\n",
      "tensor([1.0000, 1.0000, 1.0000, 1.0000, 1.0000, 1.0000, 1.0000, 1.0000, 1.0000,\n",
      "        1.0000, 1.0000, 1.0000, 1.0000, 1.0000, 1.0000, 1.0000, 1.0000, 1.0000,\n",
      "        1.0000, 1.0000, 1.0000, 1.0000, 1.0000, 1.0000, 1.0000, 1.0000, 1.0000,\n",
      "        1.0000, 1.0000, 1.0000, 1.0000, 1.0000, 1.0000, 1.0000, 1.0000, 1.0000,\n",
      "        1.0000, 1.0000, 1.0000, 1.0000, 1.0000, 1.0000, 1.0000, 1.0000, 1.0000,\n",
      "        1.0000, 1.0000, 1.0000, 1.0000, 1.0000, 1.0000, 1.0000, 1.0000, 1.0000,\n",
      "        1.0000, 1.0000, 1.0000, 1.0000, 1.0000, 1.0000, 1.0000, 1.0000, 1.0000,\n",
      "        1.0000])\n"
     ]
    }
   ],
   "source": [
    "# We so we have 64 features, 10 inputs each. \n",
    "def softmax(X):\n",
    "    # torch.exp(x) will count exp for each of 64\n",
    "    exp_x = torch.exp(X)\n",
    "    # torch.sum(torch.exp(x), dim=1) will sum exp for each x in X, dim=1 makes sure it takes the sum across the columns.\n",
    "    sum_exp = torch.sum(torch.exp(X), dim=1).view(-1, 1)  # to have one value for each row we use .view(-1, 1)\n",
    "    return exp_x/sum_exp\n",
    "\n",
    "# Here, out should be the output of the network in the previous excercise with shape (64,10)\n",
    "\n",
    "probabilities = softmax(out)\n",
    "\n",
    "# Does it have the right shape? Should be (64, 10)\n",
    "print(probabilities.shape)\n",
    "# Does it sum to 1?\n",
    "print(probabilities.sum(dim=1))"
   ]
  },
  {
   "cell_type": "markdown",
   "metadata": {},
   "source": [
    "## Building networks with PyTorch\n",
    "\n",
    "PyTorch provides a module `nn` that makes building networks much simpler. Here I'll show you how to build the same one as above with 784 inputs, 256 hidden units, 10 output units and a softmax output."
   ]
  },
  {
   "cell_type": "code",
   "execution_count": 17,
   "metadata": {},
   "outputs": [],
   "source": [
    "from torch import nn"
   ]
  },
  {
   "cell_type": "code",
   "execution_count": 18,
   "metadata": {},
   "outputs": [],
   "source": [
    "class Network(nn.Module):\n",
    "    def __init__(self):\n",
    "        super().__init__()\n",
    "        \n",
    "        # Inputs to hidden layer linear transformation\n",
    "        self.hidden = nn.Linear(784, 256)\n",
    "        # Output layer, 10 units - one for each digit\n",
    "        self.output = nn.Linear(256, 10)\n",
    "        \n",
    "        # Define sigmoid activation and softmax output \n",
    "        self.sigmoid = nn.Sigmoid()\n",
    "        self.softmax = nn.Softmax(dim=1)\n",
    "        \n",
    "    def forward(self, x):\n",
    "        # Pass the input tensor through each of our operations\n",
    "        x = self.hidden(x)\n",
    "        x = self.sigmoid(x)\n",
    "        x = self.output(x)\n",
    "        x = self.softmax(x)\n",
    "        \n",
    "        return x"
   ]
  },
  {
   "cell_type": "markdown",
   "metadata": {},
   "source": [
    "Let's go through this bit by bit.\n",
    "\n",
    "```python\n",
    "class Network(nn.Module):\n",
    "```\n",
    "\n",
    "Here we're inheriting from `nn.Module`. Combined with `super().__init__()` this creates a class that tracks the architecture and provides a lot of useful methods and attributes. It is mandatory to inherit from `nn.Module` when you're creating a class for your network. The name of the class itself can be anything.\n",
    "\n",
    "```python\n",
    "self.hidden = nn.Linear(784, 256)\n",
    "```\n",
    "\n",
    "This line creates a module for a linear transformation, $x\\mathbf{W} + b$, with 784 inputs and 256 outputs and assigns it to `self.hidden`. The module automatically creates the weight and bias tensors which we'll use in the `forward` method. You can access the weight and bias tensors once the network (`net`) is created with `net.hidden.weight` and `net.hidden.bias`.\n",
    "\n",
    "```python\n",
    "self.output = nn.Linear(256, 10)\n",
    "```\n",
    "\n",
    "Similarly, this creates another linear transformation with 256 inputs and 10 outputs.\n",
    "\n",
    "```python\n",
    "self.sigmoid = nn.Sigmoid()\n",
    "self.softmax = nn.Softmax(dim=1)\n",
    "```\n",
    "\n",
    "Here I defined operations for the sigmoid activation and softmax output. Setting `dim=1` in `nn.Softmax(dim=1)` calculates softmax across the columns.\n",
    "\n",
    "```python\n",
    "def forward(self, x):\n",
    "```\n",
    "\n",
    "PyTorch networks created with `nn.Module` must have a `forward` method defined. It takes in a tensor `x` and passes it through the operations you defined in the `__init__` method.\n",
    "\n",
    "```python\n",
    "x = self.hidden(x)\n",
    "x = self.sigmoid(x)\n",
    "x = self.output(x)\n",
    "x = self.softmax(x)\n",
    "```\n",
    "\n",
    "Here the input tensor `x` is passed through each operation and reassigned to `x`. We can see that the input tensor goes through the hidden layer, then a sigmoid function, then the output layer, and finally the softmax function. It doesn't matter what you name the variables here, as long as the inputs and outputs of the operations match the network architecture you want to build. The order in which you define things in the `__init__` method doesn't matter, but you'll need to sequence the operations correctly in the `forward` method.\n",
    "\n",
    "Now we can create a `Network` object."
   ]
  },
  {
   "cell_type": "code",
   "execution_count": 19,
   "metadata": {},
   "outputs": [
    {
     "data": {
      "text/plain": [
       "Network(\n",
       "  (hidden): Linear(in_features=784, out_features=256, bias=True)\n",
       "  (output): Linear(in_features=256, out_features=10, bias=True)\n",
       "  (sigmoid): Sigmoid()\n",
       "  (softmax): Softmax(dim=1)\n",
       ")"
      ]
     },
     "execution_count": 19,
     "metadata": {},
     "output_type": "execute_result"
    }
   ],
   "source": [
    "# Create the network and look at it's text representation\n",
    "model = Network()\n",
    "model"
   ]
  },
  {
   "cell_type": "markdown",
   "metadata": {},
   "source": [
    "You can define the network somewhat more concisely and clearly using the `torch.nn.functional` module. This is the most common way you'll see networks defined as many operations are simple element-wise functions. We normally import this module as `F`, `import torch.nn.functional as F`."
   ]
  },
  {
   "cell_type": "code",
   "execution_count": 20,
   "metadata": {},
   "outputs": [],
   "source": [
    "import torch.nn.functional as F\n",
    "\n",
    "class Network(nn.Module):\n",
    "    def __init__(self):\n",
    "        super().__init__()\n",
    "        # Inputs to hidden layer linear transformation\n",
    "        self.hidden = nn.Linear(784, 256)\n",
    "        # Output layer, 10 units - one for each digit\n",
    "        self.output = nn.Linear(256, 10)\n",
    "        \n",
    "    def forward(self, x):\n",
    "        # Hidden layer with sigmoid activation\n",
    "        x = F.sigmoid(self.hidden(x))\n",
    "        # Output layer with softmax activation\n",
    "        x = F.softmax(self.output(x), dim=1)\n",
    "        \n",
    "        return x"
   ]
  },
  {
   "cell_type": "markdown",
   "metadata": {},
   "source": [
    "### Activation functions\n",
    "\n",
    "So far we've only been looking at the sigmoid activation function, but in general any function can be used as an activation function. The only requirement is that for a network to approximate a non-linear function, the activation functions must be non-linear. Here are a few more examples of common activation functions: Tanh (hyperbolic tangent), and ReLU (rectified linear unit).\n",
    "\n",
    "<img src=\"assets/activation.png\" width=700px>\n",
    "\n",
    "In practice, the ReLU function is used almost exclusively as the activation function for hidden layers."
   ]
  },
  {
   "cell_type": "markdown",
   "metadata": {},
   "source": [
    "### Your Turn to Build a Network\n",
    "\n",
    "<img src=\"assets/mlp_mnist.png\" width=600px>\n",
    "\n",
    "> **Exercise:** Create a network with 784 input units, a hidden layer with 128 units and a ReLU activation, then a hidden layer with 64 units and a ReLU activation, and finally an output layer with a softmax activation as shown above. You can use a ReLU activation with the `nn.ReLU` module or `F.relu` function.\n",
    "\n",
    "It's good practice to name your layers by their type of network, for instance 'fc' to represent a fully-connected layer. As you code your solution, use `fc1`, `fc2`, and `fc3` as your layer names."
   ]
  },
  {
   "cell_type": "code",
   "execution_count": 23,
   "metadata": {
    "scrolled": true
   },
   "outputs": [],
   "source": [
    "## Your solution here\n",
    "import torch.nn.functional as F\n",
    "\n",
    "class Network(nn.Module):\n",
    "    def __init__(self):\n",
    "        super().__init__()\n",
    "        self.fc1 = nn.Linear(784, 128)\n",
    "        self.fc2 = nn.Linear(128, 64)\n",
    "        self.fc3 = nn.Linear(64, 10)\n",
    "        \n",
    "    def forward(self, x):\n",
    "        x = self.fc1(x)\n",
    "        x = F.relu(x)\n",
    "        x = self.fc2(x)\n",
    "        x = F.relu(x)\n",
    "        x = self.fc3(x)\n",
    "        x = F.softmax(x, dim=1)\n",
    "        \n",
    "        return x\n",
    "\n",
    "model = Network()"
   ]
  },
  {
   "cell_type": "markdown",
   "metadata": {},
   "source": [
    "### Initializing weights and biases\n",
    "\n",
    "The weights and such are automatically initialized for you, but it's possible to customize how they are initialized. The weights and biases are tensors attached to the layer you defined, you can get them with `model.fc1.weight` for instance."
   ]
  },
  {
   "cell_type": "code",
   "execution_count": 24,
   "metadata": {},
   "outputs": [
    {
     "name": "stdout",
     "output_type": "stream",
     "text": [
      "Parameter containing:\n",
      "tensor([[ 0.0030, -0.0127,  0.0344,  ..., -0.0241,  0.0160,  0.0270],\n",
      "        [-0.0106, -0.0050,  0.0118,  ..., -0.0126,  0.0329,  0.0176],\n",
      "        [ 0.0317, -0.0275, -0.0310,  ..., -0.0356,  0.0115, -0.0240],\n",
      "        ...,\n",
      "        [ 0.0026, -0.0118, -0.0074,  ...,  0.0177, -0.0064, -0.0058],\n",
      "        [ 0.0149,  0.0119, -0.0260,  ..., -0.0045, -0.0069,  0.0050],\n",
      "        [ 0.0297, -0.0226, -0.0047,  ...,  0.0243,  0.0003,  0.0346]],\n",
      "       requires_grad=True)\n",
      "Parameter containing:\n",
      "tensor([-0.0233,  0.0076, -0.0310,  0.0003, -0.0225,  0.0131, -0.0189,  0.0118,\n",
      "         0.0144, -0.0323,  0.0121,  0.0002, -0.0197, -0.0176, -0.0043,  0.0010,\n",
      "         0.0066,  0.0152,  0.0225, -0.0144, -0.0088,  0.0118, -0.0099, -0.0324,\n",
      "        -0.0071, -0.0016,  0.0096,  0.0179,  0.0331, -0.0088,  0.0041,  0.0111,\n",
      "        -0.0274,  0.0233, -0.0088, -0.0353, -0.0158, -0.0202,  0.0302, -0.0182,\n",
      "        -0.0052,  0.0084, -0.0216, -0.0226,  0.0288,  0.0199,  0.0355, -0.0067,\n",
      "        -0.0064, -0.0109, -0.0228, -0.0210,  0.0286,  0.0139, -0.0349, -0.0335,\n",
      "         0.0016,  0.0237,  0.0332, -0.0028,  0.0213, -0.0250, -0.0041, -0.0064,\n",
      "         0.0349, -0.0340, -0.0331,  0.0277,  0.0303,  0.0048, -0.0125,  0.0016,\n",
      "        -0.0123, -0.0277,  0.0301, -0.0299,  0.0328, -0.0165, -0.0193, -0.0269,\n",
      "         0.0181,  0.0330, -0.0240,  0.0152,  0.0348,  0.0232, -0.0109,  0.0210,\n",
      "        -0.0002,  0.0312, -0.0181,  0.0028, -0.0142, -0.0224, -0.0345, -0.0176,\n",
      "         0.0339,  0.0219, -0.0243,  0.0123, -0.0322, -0.0097,  0.0316,  0.0166,\n",
      "         0.0113, -0.0174, -0.0284,  0.0233, -0.0257, -0.0149, -0.0177, -0.0308,\n",
      "        -0.0340, -0.0060,  0.0110,  0.0342, -0.0306,  0.0080,  0.0308,  0.0026,\n",
      "        -0.0108,  0.0356, -0.0305, -0.0168,  0.0313,  0.0129,  0.0099, -0.0187],\n",
      "       requires_grad=True)\n"
     ]
    }
   ],
   "source": [
    "print(model.fc1.weight)\n",
    "print(model.fc1.bias)"
   ]
  },
  {
   "cell_type": "markdown",
   "metadata": {},
   "source": [
    "For custom initialization, we want to modify these tensors in place. These are actually autograd *Variables*, so we need to get back the actual tensors with `model.fc1.weight.data`. Once we have the tensors, we can fill them with zeros (for biases) or random normal values."
   ]
  },
  {
   "cell_type": "code",
   "execution_count": 25,
   "metadata": {},
   "outputs": [
    {
     "data": {
      "text/plain": [
       "tensor([0., 0., 0., 0., 0., 0., 0., 0., 0., 0., 0., 0., 0., 0., 0., 0., 0., 0., 0., 0., 0., 0., 0., 0.,\n",
       "        0., 0., 0., 0., 0., 0., 0., 0., 0., 0., 0., 0., 0., 0., 0., 0., 0., 0., 0., 0., 0., 0., 0., 0.,\n",
       "        0., 0., 0., 0., 0., 0., 0., 0., 0., 0., 0., 0., 0., 0., 0., 0., 0., 0., 0., 0., 0., 0., 0., 0.,\n",
       "        0., 0., 0., 0., 0., 0., 0., 0., 0., 0., 0., 0., 0., 0., 0., 0., 0., 0., 0., 0., 0., 0., 0., 0.,\n",
       "        0., 0., 0., 0., 0., 0., 0., 0., 0., 0., 0., 0., 0., 0., 0., 0., 0., 0., 0., 0., 0., 0., 0., 0.,\n",
       "        0., 0., 0., 0., 0., 0., 0., 0.])"
      ]
     },
     "execution_count": 25,
     "metadata": {},
     "output_type": "execute_result"
    }
   ],
   "source": [
    "# Set biases to all zeros\n",
    "model.fc1.bias.data.fill_(0)"
   ]
  },
  {
   "cell_type": "code",
   "execution_count": 26,
   "metadata": {},
   "outputs": [
    {
     "data": {
      "text/plain": [
       "tensor([[ 0.0005,  0.0010,  0.0009,  ..., -0.0214, -0.0045,  0.0011],\n",
       "        [-0.0104,  0.0064,  0.0047,  ..., -0.0058, -0.0059, -0.0012],\n",
       "        [ 0.0058,  0.0016, -0.0020,  ...,  0.0054, -0.0081,  0.0081],\n",
       "        ...,\n",
       "        [-0.0065,  0.0069, -0.0177,  ..., -0.0050, -0.0054, -0.0011],\n",
       "        [-0.0101, -0.0094, -0.0010,  ...,  0.0116,  0.0040, -0.0223],\n",
       "        [-0.0051, -0.0021, -0.0082,  ...,  0.0090, -0.0153, -0.0114]])"
      ]
     },
     "execution_count": 26,
     "metadata": {},
     "output_type": "execute_result"
    }
   ],
   "source": [
    "# sample from random normal with standard dev = 0.01\n",
    "model.fc1.weight.data.normal_(std=0.01)"
   ]
  },
  {
   "cell_type": "markdown",
   "metadata": {},
   "source": [
    "### Forward pass\n",
    "\n",
    "Now that we have a network, let's see what happens when we pass in an image."
   ]
  },
  {
   "cell_type": "code",
   "execution_count": 27,
   "metadata": {},
   "outputs": [
    {
     "data": {
      "image/png": "[encoded data removed]",
      "text/plain": [
       "<Figure size 432x648 with 2 Axes>"
      ]
     },
     "metadata": {
      "image/png": {
       "height": 235,
       "width": 424
      },
      "needs_background": "light"
     },
     "output_type": "display_data"
    }
   ],
   "source": [
    "# Grab some data \n",
    "dataiter = iter(trainloader)\n",
    "images, labels = dataiter.next()\n",
    "\n",
    "# Resize images into a 1D vector, new shape is (batch size, color channels, image pixels) \n",
    "images.resize_(64, 1, 784)\n",
    "# or images.resize_(images.shape[0], 1, 784) to automatically get batch size\n",
    "\n",
    "# Forward pass through the network\n",
    "img_idx = 0\n",
    "ps = model.forward(images[img_idx,:])\n",
    "\n",
    "img = images[img_idx]\n",
    "helper.view_classify(img.view(1, 28, 28), ps)"
   ]
  },
  {
   "cell_type": "markdown",
   "metadata": {},
   "source": [
    "As you can see above, our network has basically no idea what this digit is. It's because we haven't trained it yet, all the weights are random!\n",
    "\n",
    "### Using `nn.Sequential`\n",
    "\n",
    "PyTorch provides a convenient way to build networks like this where a tensor is passed sequentially through operations, `nn.Sequential` ([documentation](https://pytorch.org/docs/master/nn.html#torch.nn.Sequential)). Using this to build the equivalent network:"
   ]
  },
  {
   "cell_type": "code",
   "execution_count": 28,
   "metadata": {},
   "outputs": [
    {
     "name": "stdout",
     "output_type": "stream",
     "text": [
      "Sequential(\n",
      "  (0): Linear(in_features=784, out_features=128, bias=True)\n",
      "  (1): ReLU()\n",
      "  (2): Linear(in_features=128, out_features=64, bias=True)\n",
      "  (3): ReLU()\n",
      "  (4): Linear(in_features=64, out_features=10, bias=True)\n",
      "  (5): Softmax(dim=1)\n",
      ")\n"
     ]
    },
    {
     "data": {
      "image/png": "[encoded data removed]",
      "text/plain": [
       "<Figure size 432x648 with 2 Axes>"
      ]
     },
     "metadata": {
      "image/png": {
       "height": 235,
       "width": 424
      },
      "needs_background": "light"
     },
     "output_type": "display_data"
    }
   ],
   "source": [
    "# Hyperparameters for our network\n",
    "input_size = 784\n",
    "hidden_sizes = [128, 64]\n",
    "output_size = 10\n",
    "\n",
    "# Build a feed-forward network\n",
    "model = nn.Sequential(nn.Linear(input_size, hidden_sizes[0]),\n",
    "                      nn.ReLU(),\n",
    "                      nn.Linear(hidden_sizes[0], hidden_sizes[1]),\n",
    "                      nn.ReLU(),\n",
    "                      nn.Linear(hidden_sizes[1], output_size),\n",
    "                      nn.Softmax(dim=1))\n",
    "print(model)\n",
    "\n",
    "# Forward pass through the network and display output\n",
    "images, labels = next(iter(trainloader))\n",
    "images.resize_(images.shape[0], 1, 784)\n",
    "ps = model.forward(images[0,:])\n",
    "helper.view_classify(images[0].view(1, 28, 28), ps)"
   ]
  },
  {
   "cell_type": "markdown",
   "metadata": {},
   "source": [
    "Here our model is the same as before: 784 input units, a hidden layer with 128 units, ReLU activation, 64 unit hidden layer, another ReLU, then the output layer with 10 units, and the softmax output.\n",
    "\n",
    "The operations are available by passing in the appropriate index. For example, if you want to get first Linear operation and look at the weights, you'd use `model[0]`."
   ]
  },
  {
   "cell_type": "code",
   "execution_count": 29,
   "metadata": {},
   "outputs": [
    {
     "name": "stdout",
     "output_type": "stream",
     "text": [
      "Linear(in_features=784, out_features=128, bias=True)\n"
     ]
    },
    {
     "data": {
      "text/plain": [
       "Parameter containing:\n",
       "tensor([[-0.0251,  0.0258,  0.0189,  ...,  0.0142, -0.0276, -0.0045],\n",
       "        [ 0.0244,  0.0252,  0.0265,  ..., -0.0267,  0.0002, -0.0110],\n",
       "        [ 0.0155,  0.0206,  0.0075,  ...,  0.0065, -0.0212,  0.0193],\n",
       "        ...,\n",
       "        [ 0.0096,  0.0268,  0.0077,  ..., -0.0082,  0.0067, -0.0229],\n",
       "        [-0.0097, -0.0279,  0.0033,  ..., -0.0311, -0.0218,  0.0098],\n",
       "        [ 0.0004,  0.0178, -0.0133,  ...,  0.0055,  0.0267,  0.0261]],\n",
       "       requires_grad=True)"
      ]
     },
     "execution_count": 29,
     "metadata": {},
     "output_type": "execute_result"
    }
   ],
   "source": [
    "print(model[0])\n",
    "model[0].weight"
   ]
  },
  {
   "cell_type": "markdown",
   "metadata": {},
   "source": [
    "You can also pass in an `OrderedDict` to name the individual layers and operations, instead of using incremental integers. Note that dictionary keys must be unique, so _each operation must have a different name_."
   ]
  },
  {
   "cell_type": "code",
   "execution_count": 30,
   "metadata": {},
   "outputs": [
    {
     "data": {
      "text/plain": [
       "Sequential(\n",
       "  (fc1): Linear(in_features=784, out_features=128, bias=True)\n",
       "  (relu1): ReLU()\n",
       "  (fc2): Linear(in_features=128, out_features=64, bias=True)\n",
       "  (relu2): ReLU()\n",
       "  (output): Linear(in_features=64, out_features=10, bias=True)\n",
       "  (softmax): Softmax(dim=1)\n",
       ")"
      ]
     },
     "execution_count": 30,
     "metadata": {},
     "output_type": "execute_result"
    }
   ],
   "source": [
    "from collections import OrderedDict\n",
    "model = nn.Sequential(OrderedDict([\n",
    "                      ('fc1', nn.Linear(input_size, hidden_sizes[0])),\n",
    "                      ('relu1', nn.ReLU()),\n",
    "                      ('fc2', nn.Linear(hidden_sizes[0], hidden_sizes[1])),\n",
    "                      ('relu2', nn.ReLU()),\n",
    "                      ('output', nn.Linear(hidden_sizes[1], output_size)),\n",
    "                      ('softmax', nn.Softmax(dim=1))]))\n",
    "model"
   ]
  },
  {
   "cell_type": "markdown",
   "metadata": {},
   "source": [
    "Now you can access layers either by integer or the name"
   ]
  },
  {
   "cell_type": "code",
   "execution_count": 31,
   "metadata": {},
   "outputs": [
    {
     "name": "stdout",
     "output_type": "stream",
     "text": [
      "Linear(in_features=784, out_features=128, bias=True)\n",
      "Linear(in_features=784, out_features=128, bias=True)\n"
     ]
    }
   ],
   "source": [
    "print(model[0])\n",
    "print(model.fc1)"
   ]
  },
  {
   "cell_type": "markdown",
   "metadata": {},
   "source": [
    "In the next notebook, we'll see how we can train a neural network to accuractly predict the numbers appearing in the MNIST images."
   ]
  }
 ],
 "metadata": {
  "kernelspec": {
   "display_name": "Python [conda env:data]",
   "language": "python",
   "name": "conda-env-data-py"
  },
  "language_info": {
   "codemirror_mode": {
    "name": "ipython",
    "version": 3
   },
   "file_extension": ".py",
   "mimetype": "text/x-python",
   "name": "python",
   "nbconvert_exporter": "python",
   "pygments_lexer": "ipython3",
   "version": "3.7.9"
  }
 },
 "nbformat": 4,
 "nbformat_minor": 2
}
